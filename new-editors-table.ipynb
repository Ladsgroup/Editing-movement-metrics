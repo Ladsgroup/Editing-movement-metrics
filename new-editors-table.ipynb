{
 "cells": [
  {
   "cell_type": "code",
   "execution_count": 2,
   "metadata": {},
   "outputs": [
    {
     "name": "stderr",
     "output_type": "stream",
     "text": [
      "You can find the source for `wmfdata` at https://github.com/neilpquinn/wmfdata\n"
     ]
    }
   ],
   "source": [
    "import wmfdata as wmf"
   ]
  },
  {
   "cell_type": "code",
   "execution_count": 3,
   "metadata": {},
   "outputs": [],
   "source": [
    "%matplotlib inline"
   ]
  },
  {
   "cell_type": "markdown",
   "metadata": {},
   "source": [
    "# Create"
   ]
  },
  {
   "cell_type": "code",
   "execution_count": 23,
   "metadata": {},
   "outputs": [],
   "source": [
    "wmf.hive.run(\n",
    "    \"\"\"\n",
    "    create table neilpquinn.new_editors(\n",
    "        user_name string,\n",
    "        wiki string,\n",
    "        cohort string,\n",
    "        1st_month_edits bigint,\n",
    "        2nd_month_edits bigint\n",
    "    )\n",
    "    -- This allows us to delete data later on (e.g. in case of duplicate inserts)\n",
    "    TBLPROPERTIES (\"transactional\"=\"true\")\n",
    "    \"\"\"\n",
    ")"
   ]
  },
  {
   "cell_type": "markdown",
   "metadata": {},
   "source": [
    "# Update"
   ]
  },
  {
   "cell_type": "code",
   "execution_count": 24,
   "metadata": {},
   "outputs": [],
   "source": [
    "# To-do: We take the metric month and look backwards. But this results in censored data\n",
    "# for months under 30 days (February).\n",
    "\n",
    "# Start included, end excluded. Have to set the end back a couple of months to ensure we only get uncensored data.\n",
    "START = \"2001-01\"\n",
    "END = \"2018-03\"\n",
    "\n",
    "SNAPSHOT = \"2018-04\""
   ]
  },
  {
   "cell_type": "code",
   "execution_count": 25,
   "metadata": {},
   "outputs": [],
   "source": [
    "# Be careful not to insert duplicate data. Primary keys were introduced in Hive 2.1.0,\n",
    "# so until we're running that there's no built-in way to stop duplicates.\n",
    "wmf.hive.run(\n",
    "    \"\"\"\n",
    "    insert into table neilpquinn.new_editors\n",
    "    select \n",
    "        1st_month.user_name as user_name,\n",
    "        1st_month.wiki as wiki,\n",
    "        1st_month.cohort as cohort,\n",
    "        1st_month.edits as 1st_month_edits,\n",
    "        coalesce(2nd_month.edits, 0) as 2nd_month_edits\n",
    "    from (\n",
    "        select\n",
    "            event_user_text as user_name,\n",
    "            wiki_db as wiki,\n",
    "            substr(event_user_creation_timestamp, 0, 7) as cohort,\n",
    "            count(*) as edits\n",
    "        from wmf.mediawiki_history\n",
    "        where\n",
    "            snapshot = \"{snapshot}\" and\n",
    "            event_entity = \"revision\" and\n",
    "            event_type = \"create\" and\n",
    "            event_user_is_created_by_system = 0 and\n",
    "            event_user_creation_timestamp >= \"{start}\" and\n",
    "            event_user_creation_timestamp < \"{end}\" and\n",
    "            unix_timestamp(event_timestamp, \"yyyy-MM-dd HH:mm:ss.0\") <\n",
    "                (unix_timestamp(event_user_creation_timestamp, \"yyyy-MM-dd HH:mm:ss.0\") + (30*24*60*60))\n",
    "        group by event_user_text, event_user_creation_timestamp, wiki_db\n",
    "        ) 1st_month\n",
    "    left join (\n",
    "        select\n",
    "            event_user_text as user_name,\n",
    "            wiki_db as wiki,\n",
    "            substr(event_user_creation_timestamp, 0, 7) as cohort,\n",
    "            count(*) as edits\n",
    "        from wmf.mediawiki_history\n",
    "        where\n",
    "            snapshot = \"{snapshot}\" and\n",
    "            event_entity = \"revision\" and\n",
    "            event_type = \"create\" and\n",
    "            event_user_is_created_by_system = 0 and\n",
    "            event_user_creation_timestamp >= \"{start}\" and\n",
    "            event_user_creation_timestamp < \"{end}\" and\n",
    "            unix_timestamp(event_timestamp, \"yyyy-MM-dd HH:mm:ss.0\") >=\n",
    "                (unix_timestamp(event_user_creation_timestamp, \"yyyy-MM-dd HH:mm:ss.0\") + (30*24*60*60)) and\n",
    "            unix_timestamp(event_timestamp, \"yyyy-MM-dd HH:mm:ss.0\") <\n",
    "                (unix_timestamp(event_user_creation_timestamp, \"yyyy-MM-dd HH:mm:ss.0\") + (60*24*60*60))\n",
    "            group by event_user_text, event_user_creation_timestamp, wiki_db\n",
    "        ) 2nd_month\n",
    "    on\n",
    "        (1st_month.user_name = 2nd_month.user_name and\n",
    "        1st_month.wiki = 2nd_month.wiki and\n",
    "        1st_month.cohort = 2nd_month.cohort)\n",
    "    \"\"\".format(\n",
    "        snapshot = SNAPSHOT,\n",
    "        start = START,\n",
    "        end = END\n",
    "    )\n",
    ")"
   ]
  },
  {
   "cell_type": "markdown",
   "metadata": {},
   "source": [
    "# Validate"
   ]
  },
  {
   "cell_type": "code",
   "execution_count": 12,
   "metadata": {
    "scrolled": true
   },
   "outputs": [],
   "source": [
    "# Check to make sure no cohorts have duplicated data\n",
    "new_eds = wmf.hive.run(\n",
    "    \"\"\"\n",
    "    select cohort, count(*)\n",
    "    from neilpquinn.new_editors\n",
    "    group by cohort\n",
    "    order by cohort asc\n",
    "    limit 500\n",
    "    \"\"\"\n",
    ")"
   ]
  }
 ],
 "metadata": {
  "kernelspec": {
   "display_name": "Python 3",
   "language": "python",
   "name": "python3"
  },
  "language_info": {
   "codemirror_mode": {
    "name": "ipython",
    "version": 3
   },
   "file_extension": ".py",
   "mimetype": "text/x-python",
   "name": "python",
   "nbconvert_exporter": "python",
   "pygments_lexer": "ipython3",
   "version": "3.5.3"
  }
 },
 "nbformat": 4,
 "nbformat_minor": 2
}

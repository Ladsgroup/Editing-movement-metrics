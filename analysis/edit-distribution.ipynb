{
 "cells": [
  {
   "cell_type": "raw",
   "metadata": {},
   "source": [
    "import pandas as pd\n",
    "import numpy as np\n",
    "import matplotlib as mpl \n",
    "import matplotlib.pyplot as plt"
   ]
  },
  {
   "cell_type": "code",
   "execution_count": 2,
   "metadata": {},
   "outputs": [
    {
     "name": "stderr",
     "output_type": "stream",
     "text": [
      "You can find the source for `wmfdata` at https://github.com/neilpquinn/wmfdata\n"
     ]
    }
   ],
   "source": [
    "import wmfdata as wmf"
   ]
  },
  {
   "cell_type": "code",
   "execution_count": 63,
   "metadata": {},
   "outputs": [],
   "source": [
    "%matplotlib inline\n",
    "\n",
    "mpl.rcParams[\"font.size\"] = 16\n",
    "mpl.rcParams[\"figure.figsize\"] = (14, 7)"
   ]
  },
  {
   "cell_type": "code",
   "execution_count": 59,
   "metadata": {},
   "outputs": [
    {
     "data": {
      "text/html": [
       "<div>\n",
       "<style scoped>\n",
       "    .dataframe tbody tr th:only-of-type {\n",
       "        vertical-align: middle;\n",
       "    }\n",
       "\n",
       "    .dataframe tbody tr th {\n",
       "        vertical-align: top;\n",
       "    }\n",
       "\n",
       "    .dataframe thead th {\n",
       "        text-align: right;\n",
       "    }\n",
       "</style>\n",
       "<table border=\"1\" class=\"dataframe\">\n",
       "  <thead>\n",
       "    <tr style=\"text-align: right;\">\n",
       "      <th></th>\n",
       "      <th>user</th>\n",
       "      <th>edits</th>\n",
       "    </tr>\n",
       "  </thead>\n",
       "  <tbody>\n",
       "    <tr>\n",
       "      <th>0</th>\n",
       "      <td>None</td>\n",
       "      <td>18301569.6</td>\n",
       "    </tr>\n",
       "    <tr>\n",
       "      <th>1</th>\n",
       "      <td>10bucchr</td>\n",
       "      <td>3.0</td>\n",
       "    </tr>\n",
       "    <tr>\n",
       "      <th>2</th>\n",
       "      <td>11hand8e</td>\n",
       "      <td>20.0</td>\n",
       "    </tr>\n",
       "    <tr>\n",
       "      <th>3</th>\n",
       "      <td>11nicolasflorent11</td>\n",
       "      <td>3.0</td>\n",
       "    </tr>\n",
       "    <tr>\n",
       "      <th>4</th>\n",
       "      <td>1386hoorad</td>\n",
       "      <td>10.0</td>\n",
       "    </tr>\n",
       "  </tbody>\n",
       "</table>\n",
       "</div>"
      ],
      "text/plain": [
       "                 user       edits\n",
       "0                None  18301569.6\n",
       "1            10bucchr         3.0\n",
       "2            11hand8e        20.0\n",
       "3  11nicolasflorent11         3.0\n",
       "4          1386hoorad        10.0"
      ]
     },
     "execution_count": 59,
     "metadata": {},
     "output_type": "execute_result"
    }
   ],
   "source": [
    "END = \"2018-05-01\"\n",
    "SNAPSHOT = \"2018-04\"\n",
    "\n",
    "user_yr_revs = wmf.hive.run(\"\"\"\n",
    "    select\n",
    "        event_user_text as user,\n",
    "        sum(if(wiki_db = \"wikidatawiki\", 0.1, 1)) as edits\n",
    "    from wmf.mediawiki_history\n",
    "    where\n",
    "        -- NON-BOT\n",
    "        event_user_is_bot_by_name = false and\n",
    "        not array_contains(event_user_groups, \"bot\") and\n",
    "\n",
    "        -- NON-REVERTED\n",
    "        revision_is_identity_reverted = false and\n",
    "        \n",
    "        -- EDITS\n",
    "        event_entity = \"revision\" and\n",
    "        event_type = \"create\" and\n",
    "\n",
    "        -- FROM THE LAST YEAR\n",
    "        event_timestamp < \"{end}\" and\n",
    "        event_timestamp >= date_sub(\"{end}\", 365) and\n",
    "\n",
    "        -- FROM THE LATEST SNAPSHOT\n",
    "        snapshot = \"{snapshot}\"    \n",
    "    -- PER USER\n",
    "    group by event_user_text\n",
    "\"\"\".format(\n",
    "    end = END, \n",
    "    snapshot = SNAPSHOT\n",
    "))\n",
    "\n",
    "user_yr_revs.head()"
   ]
  },
  {
   "cell_type": "code",
   "execution_count": 30,
   "metadata": {},
   "outputs": [],
   "source": [
    "# Get rid of IP users, since for some reason they're lumped all together\n",
    "user_yr_revs = user_yr_revs.query(\"user.notnull()\")"
   ]
  },
  {
   "cell_type": "code",
   "execution_count": 48,
   "metadata": {},
   "outputs": [],
   "source": [
    "def M_str(x, pos):\n",
    "    n = int(round(x / 1000000))\n",
    "    return \"{n} M\".format(n=n)\n",
    "\n",
    "M_fmt = mpl.ticker.FuncFormatter(M_str)\n",
    "comma_fmt = mpl.ticker.StrMethodFormatter(\"{x:,.0f}\")"
   ]
  },
  {
   "cell_type": "code",
   "execution_count": 64,
   "metadata": {},
   "outputs": [
    {
     "data": {
      "image/png": "[encoded data removed]",
      "text/plain": [
       "<Figure size 1008x504 with 1 Axes>"
      ]
     },
     "metadata": {},
     "output_type": "display_data"
    }
   ],
   "source": [
    "edits = user_yr_revs.query(\"edits <= 100000\")[\"edits\"]\n",
    "\n",
    "plt.hist(edits, weights=edits, bins=40)\n",
    "plt.gca().yaxis.set_major_formatter(M_fmt)\n",
    "plt.gca().xaxis.set_major_formatter(comma_fmt)\n",
    "plt.title(\"Non-bot, non-reverted edits made by users at different activity levels\")\n",
    "plt.xlabel(\"users' yearly edits\")\n",
    "plt.ylabel(\"total edits made\")\n",
    "plt.autoscale(enable=True, axis=\"x\", tight=True);"
   ]
  },
  {
   "cell_type": "code",
   "execution_count": 66,
   "metadata": {},
   "outputs": [
    {
     "data": {
      "text/html": [
       "<div>\n",
       "<style scoped>\n",
       "    .dataframe tbody tr th:only-of-type {\n",
       "        vertical-align: middle;\n",
       "    }\n",
       "\n",
       "    .dataframe tbody tr th {\n",
       "        vertical-align: top;\n",
       "    }\n",
       "\n",
       "    .dataframe thead th {\n",
       "        text-align: right;\n",
       "    }\n",
       "</style>\n",
       "<table border=\"1\" class=\"dataframe\">\n",
       "  <thead>\n",
       "    <tr style=\"text-align: right;\">\n",
       "      <th></th>\n",
       "      <th>user</th>\n",
       "      <th>year</th>\n",
       "      <th>month</th>\n",
       "      <th>edits</th>\n",
       "    </tr>\n",
       "  </thead>\n",
       "  <tbody>\n",
       "    <tr>\n",
       "      <th>0</th>\n",
       "      <td>$wgUser</td>\n",
       "      <td>2017</td>\n",
       "      <td>10</td>\n",
       "      <td>2.0</td>\n",
       "    </tr>\n",
       "    <tr>\n",
       "      <th>1</th>\n",
       "      <td>--CharlestheCartoonist--</td>\n",
       "      <td>2017</td>\n",
       "      <td>10</td>\n",
       "      <td>1.0</td>\n",
       "    </tr>\n",
       "    <tr>\n",
       "      <th>2</th>\n",
       "      <td>--XenaDance--</td>\n",
       "      <td>2017</td>\n",
       "      <td>7</td>\n",
       "      <td>4.0</td>\n",
       "    </tr>\n",
       "    <tr>\n",
       "      <th>3</th>\n",
       "      <td>-xoxEmilia-</td>\n",
       "      <td>2017</td>\n",
       "      <td>8</td>\n",
       "      <td>21.0</td>\n",
       "    </tr>\n",
       "    <tr>\n",
       "      <th>4</th>\n",
       "      <td>.Raven</td>\n",
       "      <td>2018</td>\n",
       "      <td>2</td>\n",
       "      <td>12.0</td>\n",
       "    </tr>\n",
       "  </tbody>\n",
       "</table>\n",
       "</div>"
      ],
      "text/plain": [
       "                       user  year  month  edits\n",
       "0                   $wgUser  2017     10    2.0\n",
       "1  --CharlestheCartoonist--  2017     10    1.0\n",
       "2             --XenaDance--  2017      7    4.0\n",
       "3               -xoxEmilia-  2017      8   21.0\n",
       "4                    .Raven  2018      2   12.0"
      ]
     },
     "execution_count": 66,
     "metadata": {},
     "output_type": "execute_result"
    }
   ],
   "source": [
    "END = \"2018-05-01\"\n",
    "SNAPSHOT = \"2018-04\"\n",
    "\n",
    "user_mo_revs = wmf.hive.run(\"\"\"\n",
    "    select\n",
    "        event_user_text as user,\n",
    "        year(event_timestamp) as year,\n",
    "        month(event_timestamp) as month,\n",
    "        sum(if(wiki_db = \"wikidatawiki\", 0.1, 1)) as edits\n",
    "    from wmf.mediawiki_history\n",
    "    where\n",
    "        -- NON-BOT\n",
    "        event_user_is_bot_by_name = false and\n",
    "        not array_contains(event_user_groups, \"bot\") and\n",
    "\n",
    "        -- NON-REVERTED\n",
    "        revision_is_identity_reverted = false and\n",
    "        \n",
    "        -- EDITS\n",
    "        event_entity = \"revision\" and\n",
    "        event_type = \"create\" and\n",
    "\n",
    "        -- FROM THE LAST YEAR\n",
    "        event_timestamp < \"{end}\" and\n",
    "        event_timestamp >= date_sub(\"{end}\", 365) and\n",
    "\n",
    "        -- FROM THE LATEST SNAPSHOT\n",
    "        snapshot = \"{snapshot}\"    \n",
    "    -- PER USER\n",
    "    group by event_user_text, year(event_timestamp), month(event_timestamp)\n",
    "\"\"\".format(\n",
    "    end = END, \n",
    "    snapshot = SNAPSHOT\n",
    "))\n",
    "\n",
    "user_mo_revs.head()"
   ]
  },
  {
   "cell_type": "code",
   "execution_count": 68,
   "metadata": {},
   "outputs": [],
   "source": [
    "user_mo_revs = user_mo_revs.query(\"user.notnull()\")"
   ]
  },
  {
   "cell_type": "code",
   "execution_count": 74,
   "metadata": {},
   "outputs": [],
   "source": [
    "yearly = user_mo_revs.groupby(\"user\").agg({\n",
    "    \"month\": \"count\",\n",
    "    \"edits\": \"sum\"\n",
    "})"
   ]
  },
  {
   "cell_type": "code",
   "execution_count": 79,
   "metadata": {},
   "outputs": [
    {
     "data": {
      "image/png": "[encoded data removed]",
      "text/plain": [
       "<Figure size 1008x504 with 1 Axes>"
      ]
     },
     "metadata": {},
     "output_type": "display_data"
    }
   ],
   "source": [
    "plt.hist(yearly[\"month\"], weights=yearly[\"edits\"])\n",
    "plt.gca().yaxis.set_major_formatter(M_fmt)\n",
    "plt.title(\"Non-bot, non-reverted edits made by users at different activity levels\")\n",
    "plt.xlabel(\"months active in the year\")\n",
    "plt.ylabel(\"total edits made\")\n",
    "plt.autoscale(enable=True, axis=\"x\", tight=True);"
   ]
  },
  {
   "cell_type": "code",
   "execution_count": null,
   "metadata": {},
   "outputs": [],
   "source": []
  }
 ],
 "metadata": {
  "kernelspec": {
   "display_name": "Python 3",
   "language": "python",
   "name": "python3"
  },
  "language_info": {
   "codemirror_mode": {
    "name": "ipython",
    "version": 3
   },
   "file_extension": ".py",
   "mimetype": "text/x-python",
   "name": "python",
   "nbconvert_exporter": "python",
   "pygments_lexer": "ipython3",
   "version": "3.5.3"
  }
 },
 "nbformat": 4,
 "nbformat_minor": 2
}

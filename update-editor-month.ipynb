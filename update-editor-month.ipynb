{
 "cells": [
  {
   "cell_type": "code",
   "execution_count": 8,
   "metadata": {
    "collapsed": true,
    "scrolled": true
   },
   "outputs": [],
   "source": [
    "import sys\n",
    "import time"
   ]
  },
  {
   "cell_type": "code",
   "execution_count": 9,
   "metadata": {
    "collapsed": true
   },
   "outputs": [],
   "source": [
    "# The time range for which to update. START is included, END is excluded.\n",
    "START = \"201801\"\n",
    "END = \"201802\""
   ]
  },
  {
   "cell_type": "code",
   "execution_count": 10,
   "metadata": {
    "collapsed": true
   },
   "outputs": [],
   "source": [
    "def print_err(*args, **kwargs):\n",
    "    print(*args, file=sys.stderr, **kwargs)"
   ]
  },
  {
   "cell_type": "code",
   "execution_count": 11,
   "metadata": {
    "collapsed": false,
    "scrolled": false
   },
   "outputs": [],
   "source": [
    "all_wikis = run_mariadb(\n",
    "\"\"\"select site_global_key\n",
    "from enwiki.sites\n",
    "where site_group in\n",
    "('commons', 'incubator', 'foundation', 'mediawiki', 'meta', 'sources', \n",
    "'species','wikibooks', 'wikidata', 'wikinews', 'wikipedia', 'wikiquote',\n",
    "'wikisource', 'wikiversity', 'wikivoyage', 'wiktionary') \n",
    "order by site_global_key asc\"\"\"\n",
    ", fmt = \"raw\")\n",
    "\n",
    "all_wikis = [row[\"site_global_key\"] for row in all_wikis]"
   ]
  },
  {
   "cell_type": "code",
   "execution_count": 12,
   "metadata": {
    "collapsed": false
   },
   "outputs": [],
   "source": [
    "isolate = \"set session transaction isolation level read uncommitted;\"\n",
    "\n",
    "use_db = \"use {db};\"\n",
    "\n",
    "editor_month = \"\"\"\n",
    "insert into staging.editor_month\n",
    "select\n",
    "  database() as wiki,\n",
    "  str_to_date(concat(rev_month, \"01\"), \"%Y%m%d\") as month,\n",
    "  local_user_id,\n",
    "  ifnull(user_name, \"\") as user_name,\n",
    "  ifnull(sum(edits), 0) as edits,\n",
    "  ifnull(sum(content_edits), 0) as content_edits,\n",
    "  ifnull(sum(edits * deleted), 0) as deleted_edits,\n",
    "  ifnull(sum(mobile_web_edits), 0) as mobile_web_edits,\n",
    "  ifnull(sum(mobile_app_edits), 0) as mobile_app_edits,\n",
    "  ifnull(sum(visual_edits), 0) as visual_edits,\n",
    "  ifnull(sum(ve_source_edits), 0) as ve_source_edits,\n",
    "  if(ug_group = \"bot\" or ufg_group = \"bot\", 1, 0) as bot_flag,\n",
    "  str_to_date(user_registration, \"%Y%m%d%H%i%S\") as user_registration\n",
    "from\n",
    "(\n",
    "select\n",
    "  left(rev_timestamp, 6) as `rev_month`,\n",
    "  rev_user as `local_user_id`,\n",
    "  count(*) as `edits`,\n",
    "  sum(page_namespace = 0 or cn.namespace is not null) as content_edits,\n",
    "  sum(\n",
    "    ts_tags like \"%mobile edit%\" and\n",
    "    (ts_tags like \"%mobile web edit%\" or ts_tags not like \"%mobile app edit%\")\n",
    "  ) as mobile_web_edits,\n",
    "  sum(ts_tags like \"%mobile app edit%\") as mobile_app_edits,\n",
    "  sum(ts_tags like \"%visualeditor%\" and ts_tags not like \"%visualeditor-wikitext%\") as visual_edits,\n",
    "  sum(ts_tags like \"%visualeditor-wikitext%\") as ve_source_edits,\n",
    "  0 as `deleted`\n",
    "from revision\n",
    "left join page on rev_page = page_id\n",
    "left join tag_summary on rev_id = ts_rev_id\n",
    "left join datasets.content_namespaces cn on database() = wiki and page_namespace = namespace\n",
    "where rev_timestamp >= \"{start}\" and rev_timestamp < \"{end}\"\n",
    "group by left(rev_timestamp, 6), rev_user\n",
    "\n",
    "union all\n",
    "\n",
    "select\n",
    "  left(ar_timestamp, 6) as `rev_month`,\n",
    "  ar_user as `local_user_id`,\n",
    "  count(*) as `edits`,\n",
    "  sum(ar_namespace = 0 or cn.namespace is not null) as content_edits,\n",
    "  sum(\n",
    "    ts_tags like \"%mobile edit%\" and\n",
    "    (ts_tags like \"%mobile web edit%\" or ts_tags not like \"%mobile app edit%\")\n",
    "  ) as mobile_web_edits,\n",
    "  sum(ts_tags like \"%mobile app edit%\") as mobile_app_edits,\n",
    "  sum(ts_tags like \"%visualeditor%\" and ts_tags not like \"%visualeditor-wikitext%\") as visual_edits,\n",
    "  sum(ts_tags like \"%visualeditor-wikitext%\") as ve_source_edits,\n",
    "  1 as `deleted`\n",
    "from archive\n",
    "left join tag_summary on ar_rev_id = ts_rev_id\n",
    "left join datasets.content_namespaces cn on database() = wiki and ar_namespace = namespace\n",
    "where ar_timestamp >= \"{start}\" and ar_timestamp < \"{end}\"\n",
    "group by left(ar_timestamp, 6), ar_user\n",
    ") revs\n",
    "left join user on local_user_id = user_id\n",
    "left join user_groups on local_user_id = ug_user and ug_group = \"bot\"\n",
    "left join user_former_groups on local_user_id = ufg_user and ufg_group = \"bot\"\n",
    "group by month, local_user_id;\n",
    "\"\"\""
   ]
  },
  {
   "cell_type": "code",
   "execution_count": null,
   "metadata": {
    "collapsed": false,
    "scrolled": true
   },
   "outputs": [
    {
     "name": "stderr",
     "output_type": "stream",
     "text": [
      "aawiki completed in 0 s\n",
      "aawikibooks completed in 0 s\n",
      "aawiktionary completed in 0 s\n",
      "abwiki completed in 1 s\n",
      "abwiktionary completed in 0 s\n",
      "acewiki completed in 0 s\n",
      "adywiki completed in 0 s\n",
      "afwiki completed in 1 s\n",
      "afwikibooks completed in 0 s\n",
      "afwikiquote completed in 0 s\n",
      "afwiktionary completed in 0 s\n",
      "akwiki completed in 0 s\n",
      "akwikibooks completed in 0 s\n",
      "akwiktionary completed in 1 s\n",
      "alswiki completed in 0 s\n",
      "alswikibooks completed in 1 s\n",
      "alswikiquote completed in 0 s\n",
      "alswiktionary completed in 0 s\n",
      "amwiki completed in 0 s\n",
      "amwikiquote completed in 0 s\n",
      "amwiktionary completed in 0 s\n",
      "angwiki completed in 0 s\n",
      "angwikibooks completed in 0 s\n",
      "angwikiquote completed in 0 s\n",
      "angwikisource completed in 0 s\n",
      "angwiktionary completed in 0 s\n",
      "anwiki completed in 1 s\n",
      "anwiktionary completed in 0 s\n",
      "arcwiki completed in 1 s\n"
     ]
    }
   ],
   "source": [
    "for wiki in all_wikis:\n",
    "    init = time.perf_counter()\n",
    "    run_mariadb(\n",
    "        isolate,\n",
    "        use_db.format(db = wiki),\n",
    "        editor_month.format(start = START, end = END)\n",
    "    )\n",
    "    elapsed = time.perf_counter() - init\n",
    "    print_err(\"{} completed in {:0.0f} s\".format(wiki, elapsed))"
   ]
  },
  {
   "cell_type": "markdown",
   "metadata": {
    "collapsed": true
   },
   "source": [
    "# Quality checks"
   ]
  },
  {
   "cell_type": "code",
   "execution_count": 10,
   "metadata": {
    "collapsed": false
   },
   "outputs": [
    {
     "data": {
      "text/html": [
       "<div>\n",
       "<table border=\"1\" class=\"dataframe\">\n",
       "  <thead>\n",
       "    <tr style=\"text-align: right;\">\n",
       "      <th></th>\n",
       "      <th>month</th>\n",
       "      <th>count(*)</th>\n",
       "    </tr>\n",
       "  </thead>\n",
       "  <tbody>\n",
       "    <tr>\n",
       "      <th>0</th>\n",
       "      <td>2017-01-01</td>\n",
       "      <td>393795</td>\n",
       "    </tr>\n",
       "    <tr>\n",
       "      <th>1</th>\n",
       "      <td>2017-02-01</td>\n",
       "      <td>380416</td>\n",
       "    </tr>\n",
       "    <tr>\n",
       "      <th>2</th>\n",
       "      <td>2017-03-01</td>\n",
       "      <td>407496</td>\n",
       "    </tr>\n",
       "    <tr>\n",
       "      <th>3</th>\n",
       "      <td>2017-04-01</td>\n",
       "      <td>383681</td>\n",
       "    </tr>\n",
       "    <tr>\n",
       "      <th>4</th>\n",
       "      <td>2017-05-01</td>\n",
       "      <td>389033</td>\n",
       "    </tr>\n",
       "    <tr>\n",
       "      <th>5</th>\n",
       "      <td>2017-06-01</td>\n",
       "      <td>362528</td>\n",
       "    </tr>\n",
       "    <tr>\n",
       "      <th>6</th>\n",
       "      <td>2017-07-01</td>\n",
       "      <td>354429</td>\n",
       "    </tr>\n",
       "    <tr>\n",
       "      <th>7</th>\n",
       "      <td>2017-08-01</td>\n",
       "      <td>357186</td>\n",
       "    </tr>\n",
       "    <tr>\n",
       "      <th>8</th>\n",
       "      <td>2017-09-01</td>\n",
       "      <td>362564</td>\n",
       "    </tr>\n",
       "    <tr>\n",
       "      <th>9</th>\n",
       "      <td>2017-10-01</td>\n",
       "      <td>380788</td>\n",
       "    </tr>\n",
       "    <tr>\n",
       "      <th>10</th>\n",
       "      <td>2017-11-01</td>\n",
       "      <td>390012</td>\n",
       "    </tr>\n",
       "    <tr>\n",
       "      <th>11</th>\n",
       "      <td>2017-12-01</td>\n",
       "      <td>368455</td>\n",
       "    </tr>\n",
       "  </tbody>\n",
       "</table>\n",
       "</div>"
      ],
      "text/plain": [
       "         month  count(*)\n",
       "0   2017-01-01    393795\n",
       "1   2017-02-01    380416\n",
       "2   2017-03-01    407496\n",
       "3   2017-04-01    383681\n",
       "4   2017-05-01    389033\n",
       "5   2017-06-01    362528\n",
       "6   2017-07-01    354429\n",
       "7   2017-08-01    357186\n",
       "8   2017-09-01    362564\n",
       "9   2017-10-01    380788\n",
       "10  2017-11-01    390012\n",
       "11  2017-12-01    368455"
      ]
     },
     "execution_count": 10,
     "metadata": {},
     "output_type": "execute_result"
    }
   ],
   "source": [
    "run_mariadb(\"\"\"select month, count(*) from editor_month where month >= \"2017-01-01\" group by month\"\"\")"
   ]
  },
  {
   "cell_type": "code",
   "execution_count": 11,
   "metadata": {
    "collapsed": false
   },
   "outputs": [
    {
     "data": {
      "text/html": [
       "<div>\n",
       "<table border=\"1\" class=\"dataframe\">\n",
       "  <thead>\n",
       "    <tr style=\"text-align: right;\">\n",
       "      <th></th>\n",
       "      <th>month</th>\n",
       "      <th>count(*)</th>\n",
       "    </tr>\n",
       "  </thead>\n",
       "  <tbody>\n",
       "    <tr>\n",
       "      <th>0</th>\n",
       "      <td>2017-01-01</td>\n",
       "      <td>15738</td>\n",
       "    </tr>\n",
       "    <tr>\n",
       "      <th>1</th>\n",
       "      <td>2017-02-01</td>\n",
       "      <td>14796</td>\n",
       "    </tr>\n",
       "    <tr>\n",
       "      <th>2</th>\n",
       "      <td>2017-03-01</td>\n",
       "      <td>15646</td>\n",
       "    </tr>\n",
       "    <tr>\n",
       "      <th>3</th>\n",
       "      <td>2017-04-01</td>\n",
       "      <td>15022</td>\n",
       "    </tr>\n",
       "    <tr>\n",
       "      <th>4</th>\n",
       "      <td>2017-05-01</td>\n",
       "      <td>15111</td>\n",
       "    </tr>\n",
       "    <tr>\n",
       "      <th>5</th>\n",
       "      <td>2017-06-01</td>\n",
       "      <td>14462</td>\n",
       "    </tr>\n",
       "    <tr>\n",
       "      <th>6</th>\n",
       "      <td>2017-07-01</td>\n",
       "      <td>15132</td>\n",
       "    </tr>\n",
       "    <tr>\n",
       "      <th>7</th>\n",
       "      <td>2017-08-01</td>\n",
       "      <td>15139</td>\n",
       "    </tr>\n",
       "    <tr>\n",
       "      <th>8</th>\n",
       "      <td>2017-09-01</td>\n",
       "      <td>14917</td>\n",
       "    </tr>\n",
       "    <tr>\n",
       "      <th>9</th>\n",
       "      <td>2017-10-01</td>\n",
       "      <td>15247</td>\n",
       "    </tr>\n",
       "    <tr>\n",
       "      <th>10</th>\n",
       "      <td>2017-11-01</td>\n",
       "      <td>14993</td>\n",
       "    </tr>\n",
       "    <tr>\n",
       "      <th>11</th>\n",
       "      <td>2017-12-01</td>\n",
       "      <td>14944</td>\n",
       "    </tr>\n",
       "  </tbody>\n",
       "</table>\n",
       "</div>"
      ],
      "text/plain": [
       "         month  count(*)\n",
       "0   2017-01-01     15738\n",
       "1   2017-02-01     14796\n",
       "2   2017-03-01     15646\n",
       "3   2017-04-01     15022\n",
       "4   2017-05-01     15111\n",
       "5   2017-06-01     14462\n",
       "6   2017-07-01     15132\n",
       "7   2017-08-01     15139\n",
       "8   2017-09-01     14917\n",
       "9   2017-10-01     15247\n",
       "10  2017-11-01     14993\n",
       "11  2017-12-01     14944"
      ]
     },
     "execution_count": 11,
     "metadata": {},
     "output_type": "execute_result"
    }
   ],
   "source": [
    "run_mariadb(\"\"\"\n",
    "    select month, count(*) \n",
    "    from editor_month \n",
    "    where month >= \"2017-01-01\" and content_edits >= 100\n",
    "    group by month\n",
    "\"\"\")"
   ]
  },
  {
   "cell_type": "code",
   "execution_count": null,
   "metadata": {
    "collapsed": true
   },
   "outputs": [],
   "source": []
  }
 ],
 "metadata": {
  "kernelspec": {
   "display_name": "Python 3",
   "language": "python",
   "name": "python3"
  },
  "language_info": {
   "codemirror_mode": {
    "name": "ipython",
    "version": 3
   },
   "file_extension": ".py",
   "mimetype": "text/x-python",
   "name": "python",
   "nbconvert_exporter": "python",
   "pygments_lexer": "ipython3",
   "version": "3.4.2"
  }
 },
 "nbformat": 4,
 "nbformat_minor": 2
}

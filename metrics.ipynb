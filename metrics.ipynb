{
 "cells": [
  {
   "cell_type": "code",
   "execution_count": 8,
   "metadata": {
    "collapsed": true
   },
   "outputs": [],
   "source": [
    "# Ends with most recent data in editor month table\n",
    "START = \"2017-06-01\""
   ]
  },
  {
   "cell_type": "markdown",
   "metadata": {},
   "source": [
    "# Edits"
   ]
  },
  {
   "cell_type": "code",
   "execution_count": 9,
   "metadata": {
    "collapsed": false
   },
   "outputs": [
    {
     "name": "stderr",
     "output_type": "stream",
     "text": [
      "/home/neilpquinn-wmf/venv/lib/python3.4/site-packages/pymysql/cursors.py:323: Warning: (1300, \"Invalid utf8 character string: 'F09D92'\")\n",
      "  self._do_get_result()\n",
      "/home/neilpquinn-wmf/venv/lib/python3.4/site-packages/pymysql/cursors.py:323: Warning: (1300, \"Invalid utf8 character string: 'F09D95'\")\n",
      "  self._do_get_result()\n",
      "/home/neilpquinn-wmf/venv/lib/python3.4/site-packages/pymysql/cursors.py:323: Warning: (1300, \"Invalid utf8 character string: 'F09F92'\")\n",
      "  self._do_get_result()\n",
      "/home/neilpquinn-wmf/venv/lib/python3.4/site-packages/pymysql/cursors.py:323: Warning: (1300, \"Invalid utf8 character string: 'F09F98'\")\n",
      "  self._do_get_result()\n",
      "/home/neilpquinn-wmf/venv/lib/python3.4/site-packages/pymysql/cursors.py:323: Warning: (1300, \"Invalid utf8 character string: 'F09F8C'\")\n",
      "  self._do_get_result()\n",
      "/home/neilpquinn-wmf/venv/lib/python3.4/site-packages/pymysql/cursors.py:323: Warning: (1300, \"Invalid utf8 character string: 'F0908C'\")\n",
      "  self._do_get_result()\n",
      "/home/neilpquinn-wmf/venv/lib/python3.4/site-packages/pymysql/cursors.py:323: Warning: (1300, \"Invalid utf8 character string: 'F09D94'\")\n",
      "  self._do_get_result()\n",
      "/home/neilpquinn-wmf/venv/lib/python3.4/site-packages/pymysql/cursors.py:323: Warning: (1300, \"Invalid utf8 character string: 'F09F90'\")\n",
      "  self._do_get_result()\n",
      "/home/neilpquinn-wmf/venv/lib/python3.4/site-packages/pymysql/cursors.py:323: Warning: (1300, \"Invalid utf8 character string: 'F09F99'\")\n",
      "  self._do_get_result()\n"
     ]
    }
   ],
   "source": [
    "edits = run_mariadb(\n",
    "    \"\"\"\n",
    "    select \n",
    "    month, \n",
    "    sum(edits) as non_bot_edits,\n",
    "    sum(if(user_name = \"\", edits, 0)) as anon_edits,\n",
    "    sum(mobile_web_edits) as mobile_web_edits,\n",
    "    sum(mobile_app_edits) as mobile_app_edits\n",
    "    from (\n",
    "    select month, user_name, sum(edits) as edits,\n",
    "    sum(mobile_web_edits) as mobile_web_edits,\n",
    "    sum(mobile_app_edits) as mobile_app_edits,\n",
    "    max(bot_flag) as bot_flag\n",
    "    from staging.editor_month\n",
    "    where month >= \"{start}\"\n",
    "    group by month, user_name\n",
    "    ) global_edits\n",
    "    where\n",
    "    bot_flag = 0 and\n",
    "    convert(user_name using utf8) not regexp \"bot\\\\b\" and\n",
    "    convert(user_name using utf8) not regexp \"[ _]bot[ _]\"\n",
    "    group by month;\n",
    "    \"\"\".format(start = START)\n",
    ")"
   ]
  },
  {
   "cell_type": "code",
   "execution_count": 10,
   "metadata": {
    "collapsed": false
   },
   "outputs": [
    {
     "data": {
      "text/html": [
       "<div>\n",
       "<table border=\"1\" class=\"dataframe\">\n",
       "  <thead>\n",
       "    <tr style=\"text-align: right;\">\n",
       "      <th></th>\n",
       "      <th>month</th>\n",
       "      <th>non_bot_edits</th>\n",
       "      <th>anon_edits</th>\n",
       "      <th>mobile_web_edits</th>\n",
       "      <th>mobile_app_edits</th>\n",
       "    </tr>\n",
       "  </thead>\n",
       "  <tbody>\n",
       "    <tr>\n",
       "      <th>0</th>\n",
       "      <td>2017-06-01</td>\n",
       "      <td>19133345.0</td>\n",
       "      <td>2044585.0</td>\n",
       "      <td>762855.0</td>\n",
       "      <td>91197.0</td>\n",
       "    </tr>\n",
       "    <tr>\n",
       "      <th>1</th>\n",
       "      <td>2017-07-01</td>\n",
       "      <td>20947385.0</td>\n",
       "      <td>2065358.0</td>\n",
       "      <td>827436.0</td>\n",
       "      <td>105578.0</td>\n",
       "    </tr>\n",
       "    <tr>\n",
       "      <th>2</th>\n",
       "      <td>2017-08-01</td>\n",
       "      <td>23447716.0</td>\n",
       "      <td>2100485.0</td>\n",
       "      <td>900747.0</td>\n",
       "      <td>106198.0</td>\n",
       "    </tr>\n",
       "    <tr>\n",
       "      <th>3</th>\n",
       "      <td>2017-09-01</td>\n",
       "      <td>20236462.0</td>\n",
       "      <td>2043426.0</td>\n",
       "      <td>828826.0</td>\n",
       "      <td>94536.0</td>\n",
       "    </tr>\n",
       "    <tr>\n",
       "      <th>4</th>\n",
       "      <td>2017-10-01</td>\n",
       "      <td>22513844.0</td>\n",
       "      <td>2211979.0</td>\n",
       "      <td>897582.0</td>\n",
       "      <td>100701.0</td>\n",
       "    </tr>\n",
       "    <tr>\n",
       "      <th>5</th>\n",
       "      <td>2017-11-01</td>\n",
       "      <td>23101935.0</td>\n",
       "      <td>2157859.0</td>\n",
       "      <td>892819.0</td>\n",
       "      <td>94125.0</td>\n",
       "    </tr>\n",
       "    <tr>\n",
       "      <th>6</th>\n",
       "      <td>2017-12-01</td>\n",
       "      <td>19926661.0</td>\n",
       "      <td>2087239.0</td>\n",
       "      <td>924216.0</td>\n",
       "      <td>96437.0</td>\n",
       "    </tr>\n",
       "  </tbody>\n",
       "</table>\n",
       "</div>"
      ],
      "text/plain": [
       "        month  non_bot_edits  anon_edits  mobile_web_edits  mobile_app_edits\n",
       "0  2017-06-01     19133345.0   2044585.0          762855.0           91197.0\n",
       "1  2017-07-01     20947385.0   2065358.0          827436.0          105578.0\n",
       "2  2017-08-01     23447716.0   2100485.0          900747.0          106198.0\n",
       "3  2017-09-01     20236462.0   2043426.0          828826.0           94536.0\n",
       "4  2017-10-01     22513844.0   2211979.0          897582.0          100701.0\n",
       "5  2017-11-01     23101935.0   2157859.0          892819.0           94125.0\n",
       "6  2017-12-01     19926661.0   2087239.0          924216.0           96437.0"
      ]
     },
     "execution_count": 10,
     "metadata": {},
     "output_type": "execute_result"
    }
   ],
   "source": [
    "edits"
   ]
  },
  {
   "cell_type": "markdown",
   "metadata": {},
   "source": [
    "# Editors"
   ]
  },
  {
   "cell_type": "code",
   "execution_count": 11,
   "metadata": {
    "collapsed": false
   },
   "outputs": [
    {
     "name": "stderr",
     "output_type": "stream",
     "text": [
      "/home/neilpquinn-wmf/venv/lib/python3.4/site-packages/pymysql/cursors.py:323: Warning: (1300, \"Invalid utf8 character string: 'F09D92'\")\n",
      "  self._do_get_result()\n",
      "/home/neilpquinn-wmf/venv/lib/python3.4/site-packages/pymysql/cursors.py:323: Warning: (1300, \"Invalid utf8 character string: 'F09F98'\")\n",
      "  self._do_get_result()\n",
      "/home/neilpquinn-wmf/venv/lib/python3.4/site-packages/pymysql/cursors.py:323: Warning: (1300, \"Invalid utf8 character string: 'F0908C'\")\n",
      "  self._do_get_result()\n",
      "/home/neilpquinn-wmf/venv/lib/python3.4/site-packages/pymysql/cursors.py:323: Warning: (1300, \"Invalid utf8 character string: 'F09D94'\")\n",
      "  self._do_get_result()\n"
     ]
    }
   ],
   "source": [
    "editors = run_mariadb(\n",
    "    \"\"\"\n",
    "    select \n",
    "    month, \n",
    "    count(*) as active_editors,\n",
    "    sum(extract(year_month from reg) = extract(year_month from month)) as new_active_editors,\n",
    "    sum(extract(year_month from reg) = extract(year_month from date_sub(month, interval 1 month))) as second_month_active_editors\n",
    "    from (\n",
    "    select month, user_name, sum(content_edits) as content_edits, \n",
    "    min(user_registration) as reg, max(bot_flag) as bot_flag\n",
    "    from staging.editor_month\n",
    "    where local_user_id != 0 and month >= \"{start}\"\n",
    "    group by month, user_name\n",
    "    ) global_edits\n",
    "    where \n",
    "    content_edits >= 5 and bot_flag = 0 and\n",
    "    convert(user_name using utf8) not regexp \"bot\\\\b\" and\n",
    "    convert(user_name using utf8) not regexp \"[ _]bot[ _]\"\n",
    "    group by month;\n",
    "    \"\"\".format(start = START)\n",
    ")"
   ]
  },
  {
   "cell_type": "code",
   "execution_count": 12,
   "metadata": {
    "collapsed": false
   },
   "outputs": [
    {
     "data": {
      "text/html": [
       "<div>\n",
       "<table border=\"1\" class=\"dataframe\">\n",
       "  <thead>\n",
       "    <tr style=\"text-align: right;\">\n",
       "      <th></th>\n",
       "      <th>month</th>\n",
       "      <th>active_editors</th>\n",
       "      <th>new_active_editors</th>\n",
       "      <th>second_month_active_editors</th>\n",
       "    </tr>\n",
       "  </thead>\n",
       "  <tbody>\n",
       "    <tr>\n",
       "      <th>0</th>\n",
       "      <td>2017-06-01</td>\n",
       "      <td>81689</td>\n",
       "      <td>18771.0</td>\n",
       "      <td>4112.0</td>\n",
       "    </tr>\n",
       "    <tr>\n",
       "      <th>1</th>\n",
       "      <td>2017-07-01</td>\n",
       "      <td>80170</td>\n",
       "      <td>16383.0</td>\n",
       "      <td>4055.0</td>\n",
       "    </tr>\n",
       "    <tr>\n",
       "      <th>2</th>\n",
       "      <td>2017-08-01</td>\n",
       "      <td>79204</td>\n",
       "      <td>15316.0</td>\n",
       "      <td>3780.0</td>\n",
       "    </tr>\n",
       "    <tr>\n",
       "      <th>3</th>\n",
       "      <td>2017-09-01</td>\n",
       "      <td>79635</td>\n",
       "      <td>16909.0</td>\n",
       "      <td>3637.0</td>\n",
       "    </tr>\n",
       "    <tr>\n",
       "      <th>4</th>\n",
       "      <td>2017-10-01</td>\n",
       "      <td>81088</td>\n",
       "      <td>16518.0</td>\n",
       "      <td>3998.0</td>\n",
       "    </tr>\n",
       "    <tr>\n",
       "      <th>5</th>\n",
       "      <td>2017-11-01</td>\n",
       "      <td>82770</td>\n",
       "      <td>16833.0</td>\n",
       "      <td>4572.0</td>\n",
       "    </tr>\n",
       "    <tr>\n",
       "      <th>6</th>\n",
       "      <td>2017-12-01</td>\n",
       "      <td>79580</td>\n",
       "      <td>14393.0</td>\n",
       "      <td>4152.0</td>\n",
       "    </tr>\n",
       "  </tbody>\n",
       "</table>\n",
       "</div>"
      ],
      "text/plain": [
       "        month  active_editors  new_active_editors  second_month_active_editors\n",
       "0  2017-06-01           81689             18771.0                       4112.0\n",
       "1  2017-07-01           80170             16383.0                       4055.0\n",
       "2  2017-08-01           79204             15316.0                       3780.0\n",
       "3  2017-09-01           79635             16909.0                       3637.0\n",
       "4  2017-10-01           81088             16518.0                       3998.0\n",
       "5  2017-11-01           82770             16833.0                       4572.0\n",
       "6  2017-12-01           79580             14393.0                       4152.0"
      ]
     },
     "execution_count": 12,
     "metadata": {},
     "output_type": "execute_result"
    }
   ],
   "source": [
    "editors"
   ]
  },
  {
   "cell_type": "code",
   "execution_count": null,
   "metadata": {
    "collapsed": true
   },
   "outputs": [],
   "source": []
  }
 ],
 "metadata": {
  "kernelspec": {
   "display_name": "Python 3",
   "language": "python",
   "name": "python3"
  },
  "language_info": {
   "codemirror_mode": {
    "name": "ipython",
    "version": 3
   },
   "file_extension": ".py",
   "mimetype": "text/x-python",
   "name": "python",
   "nbconvert_exporter": "python",
   "pygments_lexer": "ipython3",
   "version": "3.4.2"
  }
 },
 "nbformat": 4,
 "nbformat_minor": 1
}

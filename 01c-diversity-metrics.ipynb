{
 "cells": [
  {
   "cell_type": "code",
   "execution_count": 2,
   "metadata": {},
   "outputs": [
    {
     "name": "stderr",
     "output_type": "stream",
     "text": [
      "You can find the source for `wmfdata` at https://github.com/neilpquinn/wmfdata\n"
     ]
    }
   ],
   "source": [
    "import pandas as pd\n",
    "from wmfdata import hive"
   ]
  },
  {
   "cell_type": "markdown",
   "metadata": {},
   "source": [
    "## New editor retention"
   ]
  },
  {
   "cell_type": "code",
   "execution_count": null,
   "metadata": {},
   "outputs": [],
   "source": [
    "gs_ner = wmf.hive.run(\n",
    "\"\"\"\n",
    "with gs_new_edits as (\n",
    "    select \n",
    "        gd.wiki_db,\n",
    "        event_user_text as user_name,\n",
    "        event_timestamp as edit_dt,\n",
    "        event_user_creation_timestamp as registration_dt\n",
    "    from wmf.geoeditors_daily gd\n",
    "    left join canonical_data.countries cdc\n",
    "    on gd.country_code = cdc.iso_code\n",
    "    left join wmf.mediawiki_history mh\n",
    "    on\n",
    "        gd.wiki_db = mh.wiki_db and\n",
    "        gd.user_fingerprint_or_id = mh.user_id and\n",
    "        mh.snapshot = \"{snapshot}\"\n",
    "    where\n",
    "        month >= \"{start}\" and\n",
    "        economic_region = \"Global South\" and\n",
    "        not event_user_is_anonymous and\n",
    "        not event_user_is_created_by_system and\n",
    "        not (event_user_is_bot_by_name or array_contains(event_user_groups, \"bot\")) and\n",
    "        event_user_creation_timestamp >= \"{start}\" and\n",
    "        event_user_creation_timestamp < \"{end}\"\n",
    ")\n",
    "select \n",
    "    1st_month.cohort as cohort,\n",
    "    sum(cast(1st_month.edits >= 1 as int)) as new_editors,\n",
    "    sum(cast(2nd_month.edits >= 1 as int)) / sum(cast(1st_month.edits >= 1 as int)) as new_editor_retention\n",
    "from (\n",
    "    select\n",
    "        user_name,\n",
    "        wiki_db as wiki,\n",
    "        substr(registration_dt, 0, 7) as cohort,\n",
    "        count(*) as edits\n",
    "    from gs_new_edits\n",
    "    where\n",
    "        unix_timestamp(edit_dt, \"yyyy-MM-dd HH:mm:ss.0\") <\n",
    "            (unix_timestamp(registration_dt, \"yyyy-MM-dd HH:mm:ss.0\") + (30*24*60*60))\n",
    "    group by user_name, registration_dt, wiki_db\n",
    "    ) 1st_month\n",
    "left join (\n",
    "    select\n",
    "        user_name,\n",
    "        wiki_db as wiki,\n",
    "        substr(registration_dt, 0, 7) as cohort,\n",
    "        count(*) as edits\n",
    "    from gs_new_edits\n",
    "    where\n",
    "        unix_timestamp(edit_dt, \"yyyy-MM-dd HH:mm:ss.0\") >=\n",
    "            (unix_timestamp(registration_dt, \"yyyy-MM-dd HH:mm:ss.0\") + (30*24*60*60)) and\n",
    "        unix_timestamp(edit_dt, \"yyyy-MM-dd HH:mm:ss.0\") <\n",
    "            (unix_timestamp(registration_dt, \"yyyy-MM-dd HH:mm:ss.0\") + (60*24*60*60))\n",
    "        group by user_name, registration_dt, wiki_db\n",
    "    ) 2nd_month\n",
    "on\n",
    "    (1st_month.user_name = 2nd_month.user_name and\n",
    "    1st_month.wiki = 2nd_month.wiki and\n",
    "    1st_month.cohort = 2nd_month.cohort)\n",
    "group by 1st_month.cohort\n",
    "\"\"\".format(\n",
    "    snapshot=\"2018-10\",\n",
    "    start=\"2018-05\",\n",
    "    end=\"2018-09\"\n",
    "))\n",
    "\n",
    "gs_ner"
   ]
  },
  {
   "cell_type": "code",
   "execution_count": 15,
   "metadata": {},
   "outputs": [
    {
     "data": {
      "text/html": [
       "<div>\n",
       "<style scoped>\n",
       "    .dataframe tbody tr th:only-of-type {\n",
       "        vertical-align: middle;\n",
       "    }\n",
       "\n",
       "    .dataframe tbody tr th {\n",
       "        vertical-align: top;\n",
       "    }\n",
       "\n",
       "    .dataframe thead th {\n",
       "        text-align: right;\n",
       "    }\n",
       "</style>\n",
       "<table border=\"1\" class=\"dataframe\">\n",
       "  <thead>\n",
       "    <tr style=\"text-align: right;\">\n",
       "      <th></th>\n",
       "      <th>cohort</th>\n",
       "      <th>new_editors</th>\n",
       "      <th>new_editor_retention</th>\n",
       "    </tr>\n",
       "  </thead>\n",
       "  <tbody>\n",
       "    <tr>\n",
       "      <th>0</th>\n",
       "      <td>2018-05</td>\n",
       "      <td>2108</td>\n",
       "      <td>0.008065</td>\n",
       "    </tr>\n",
       "    <tr>\n",
       "      <th>1</th>\n",
       "      <td>2018-06</td>\n",
       "      <td>2747</td>\n",
       "      <td>0.012741</td>\n",
       "    </tr>\n",
       "    <tr>\n",
       "      <th>2</th>\n",
       "      <td>2018-07</td>\n",
       "      <td>4627</td>\n",
       "      <td>0.009942</td>\n",
       "    </tr>\n",
       "    <tr>\n",
       "      <th>3</th>\n",
       "      <td>2018-08</td>\n",
       "      <td>37810</td>\n",
       "      <td>0.001455</td>\n",
       "    </tr>\n",
       "  </tbody>\n",
       "</table>\n",
       "</div>"
      ],
      "text/plain": [
       "    cohort  new_editors  new_editor_retention\n",
       "0  2018-05         2108              0.008065\n",
       "1  2018-06         2747              0.012741\n",
       "2  2018-07         4627              0.009942\n",
       "3  2018-08        37810              0.001455"
      ]
     },
     "execution_count": 15,
     "metadata": {},
     "output_type": "execute_result"
    }
   ],
   "source": [
    "gs_ner"
   ]
  }
 ],
 "metadata": {
  "kernelspec": {
   "display_name": "Python 3",
   "language": "python",
   "name": "python3"
  },
  "language_info": {
   "codemirror_mode": {
    "name": "ipython",
    "version": 3
   },
   "file_extension": ".py",
   "mimetype": "text/x-python",
   "name": "python",
   "nbconvert_exporter": "python",
   "pygments_lexer": "ipython3",
   "version": "3.5.3"
  }
 },
 "nbformat": 4,
 "nbformat_minor": 2
}

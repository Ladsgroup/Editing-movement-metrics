{
 "cells": [
  {
   "cell_type": "code",
   "execution_count": 1,
   "metadata": {},
   "outputs": [
    {
     "name": "stderr",
     "output_type": "stream",
     "text": [
      "You can find the source for `wmfdata` at https://github.com/neilpquinn/wmfdata\n"
     ]
    }
   ],
   "source": [
    "import datetime as dt\n",
    "from functools import reduce\n",
    "\n",
    "import pandas as pd\n",
    "\n",
    "import wmfdata as wmf"
   ]
  },
  {
   "cell_type": "code",
   "execution_count": 2,
   "metadata": {},
   "outputs": [],
   "source": [
    "# TSV file where metrics are or will be saved\n",
    "FILENAME = \"metrics.tsv\"\n",
    "\n",
    "# Latest mediawiki_history snapshot in Hive\n",
    "SNAPSHOT = \"2018-04\""
   ]
  },
  {
   "cell_type": "markdown",
   "metadata": {},
   "source": [
    "# Loading previous results"
   ]
  },
  {
   "cell_type": "code",
   "execution_count": 3,
   "metadata": {},
   "outputs": [],
   "source": [
    "try:\n",
    "    old_metrics = pd.read_csv(FILENAME, sep=\"\\t\")\n",
    "    START = old_metrics[\"month\"].max()\n",
    "except FileNotFoundError:\n",
    "    START = \"2001-01-01\"\n",
    "    old_metrics = None"
   ]
  },
  {
   "cell_type": "markdown",
   "metadata": {},
   "source": [
    "# Running queries"
   ]
  },
  {
   "cell_type": "code",
   "execution_count": 4,
   "metadata": {},
   "outputs": [],
   "source": [
    "mdb_queries = {\n",
    "    \"active_editors\": {\n",
    "        \"file\": \"queries/active_editors.sql\"\n",
    "    },\n",
    "    \"edits\": {\n",
    "        \"file\": \"queries/edits.sql\",\n",
    "    },\n",
    "    \"nonbot_edits\": {\n",
    "        \"file\": \"queries/nonbot_edits.sql\"\n",
    "    }\n",
    "}\n",
    "\n",
    "hive_queries = {\n",
    "    \"edits\": {\n",
    "        \"file\": \"queries/edits.hql\",\n",
    "    },\n",
    "}"
   ]
  },
  {
   "cell_type": "code",
   "execution_count": null,
   "metadata": {},
   "outputs": [
    {
     "name": "stderr",
     "output_type": "stream",
     "text": [
      "Running edits...\n",
      "Running active_editors...\n"
     ]
    }
   ],
   "source": [
    "for k in mdb_queries:\n",
    "    q = mdb_queries[k]\n",
    "    with open(q[\"file\"]) as f:\n",
    "        text = f.read()\n",
    "        \n",
    "    wmf.utils.print_err(\"Running {}...\".format(k))\n",
    "    q[\"result\"] = wmf.mariadb.run(text.format(start = START))\n",
    "    q[\"result\"][\"month\"] = pd.to_datetime(q[\"result\"][\"month\"])\n",
    "    \n",
    "for k in hive_queries:\n",
    "    q = hive_queries[k]\n",
    "    with open(q[\"file\"]) as f:\n",
    "        text = f.read()\n",
    "        \n",
    "    wmf.utils.print_err(\"Running {}...\".format(k))\n",
    "    q[\"result\"] = wmf.hive.run(text.format(start = START, snapshot = SNAPSHOT))\n",
    "    # Unlike our MariaDB queries, the Hive query returns a string rather than a date\n",
    "    q[\"result\"][\"month\"] = pd.to_datetime(q[\"result\"][\"month\"])"
   ]
  },
  {
   "cell_type": "markdown",
   "metadata": {},
   "source": [
    "# Combining and saving metrics"
   ]
  },
  {
   "cell_type": "code",
   "execution_count": null,
   "metadata": {},
   "outputs": [],
   "source": [
    "dfs = [mdb_queries[k][\"result\"] for k in mdb_queries]\n",
    "dfs.extend([hive_queries[k][\"result\"] for k in hive_queries])\n",
    "new_metrics = reduce(lambda l, r: pd.merge(l, r), dfs)\n",
    "\n",
    "if old_metrics:\n",
    "    metrics = pd.concat([old_metrics, new_metrics])\n",
    "else:\n",
    "    metrics = new_metrics\n",
    "    \n",
    "metrics.tail()"
   ]
  },
  {
   "cell_type": "code",
   "execution_count": 13,
   "metadata": {},
   "outputs": [],
   "source": [
    "for col in metrics.columns:\n",
    "    if col != \"month\":\n",
    "        metrics[col] = metrics[col].apply(int)"
   ]
  },
  {
   "cell_type": "code",
   "execution_count": 15,
   "metadata": {},
   "outputs": [],
   "source": [
    "metrics.to_csv(FILENAME, sep=\"\\t\", index=False)"
   ]
  }
 ],
 "metadata": {
  "kernelspec": {
   "display_name": "Python 3",
   "language": "python",
   "name": "python3"
  },
  "language_info": {
   "codemirror_mode": {
    "name": "ipython",
    "version": 3
   },
   "file_extension": ".py",
   "mimetype": "text/x-python",
   "name": "python",
   "nbconvert_exporter": "python",
   "pygments_lexer": "ipython3",
   "version": "3.5.3"
  }
 },
 "nbformat": 4,
 "nbformat_minor": 2
}
